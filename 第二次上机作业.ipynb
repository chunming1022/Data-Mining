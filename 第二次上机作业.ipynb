{
  "nbformat": 4,
  "nbformat_minor": 0,
  "metadata": {
    "colab": {
      "provenance": [],
      "authorship_tag": "ABX9TyMNddVfrkl/aIEVpzUei268",
      "include_colab_link": true
    },
    "kernelspec": {
      "name": "python3",
      "display_name": "Python 3"
    },
    "language_info": {
      "name": "python"
    }
  },
  "cells": [
    {
      "cell_type": "markdown",
      "metadata": {
        "id": "view-in-github",
        "colab_type": "text"
      },
      "source": [
        "<a href=\"https://colab.research.google.com/github/chunming1022/Data-Mining/blob/main/%E7%AC%AC%E4%BA%8C%E6%AC%A1%E4%B8%8A%E6%9C%BA%E4%BD%9C%E4%B8%9A.ipynb\" target=\"_parent\"><img src=\"https://colab.research.google.com/assets/colab-badge.svg\" alt=\"Open In Colab\"/></a>"
      ]
    },
    {
      "cell_type": "markdown",
      "source": [
        "# **利用朴素贝叶斯做西瓜分类**"
      ],
      "metadata": {
        "id": "keb-RfZOso9E"
      }
    },
    {
      "cell_type": "code",
      "execution_count": 119,
      "metadata": {
        "id": "gYOsZDC0C6TI"
      },
      "outputs": [],
      "source": [
        "import pandas as pd\n",
        "import numpy as np\n",
        "from math import log"
      ]
    },
    {
      "cell_type": "markdown",
      "source": [
        "**训练模型**"
      ],
      "metadata": {
        "id": "Ubq8qUGHJG_W"
      }
    },
    {
      "cell_type": "code",
      "source": [
        "df = pd.read_csv('西瓜的数据集.csv')\n",
        "print(df)"
      ],
      "metadata": {
        "colab": {
          "base_uri": "https://localhost:8080/"
        },
        "id": "71B4rpDBDTIn",
        "outputId": "2d7143db-a66c-41ab-ef97-ad4ffe6c90bd"
      },
      "execution_count": 120,
      "outputs": [
        {
          "output_type": "stream",
          "name": "stdout",
          "text": [
            "    色泽  根蒂  敲声  纹理  脐部  触感 好瓜\n",
            "0   青绿  蜷缩  浊响  清晰  凹陷  硬滑  是\n",
            "1   乌黑  蜷缩  沉闷  清晰  凹陷  硬滑  是\n",
            "2   乌黑  蜷缩  浊响  清晰  凹陷  硬滑  是\n",
            "3   青绿  蜷缩  沉闷  清晰  凹陷  硬滑  是\n",
            "4   浅白  蜷缩  浊响  清晰  凹陷  硬滑  是\n",
            "5   青绿  稍蜷  浊响  清晰  稍凹  软粘  是\n",
            "6   乌黑  稍蜷  浊响  稍糊  稍凹  软粘  是\n",
            "7   乌黑  稍蜷  浊响  清晰  稍凹  硬滑  是\n",
            "8   乌黑  稍蜷  沉闷  稍糊  稍凹  硬滑  否\n",
            "9   青绿  硬挺  清脆  清晰  平坦  软粘  否\n",
            "10  浅白  硬挺  清脆  模糊  平坦  硬滑  否\n",
            "11  浅白  蜷缩  浊响  模糊  平坦  软粘  否\n",
            "12  青绿  稍蜷  浊响  稍糊  凹陷  硬滑  否\n",
            "13  浅白  稍蜷  沉闷  稍糊  凹陷  硬滑  否\n",
            "14  乌黑  稍蜷  浊响  清晰  稍凹  软粘  否\n",
            "15  浅白  蜷缩  浊响  模糊  平坦  硬滑  否\n",
            "16  青绿  蜷缩  沉闷  稍糊  稍凹  硬滑  否\n"
          ]
        }
      ]
    },
    {
      "cell_type": "code",
      "source": [
        "#引入拉普拉斯平滑\n",
        "\n",
        "feature_set = []\n",
        "feature_cls_yes = []\n",
        "feature_cls_no = []\n",
        "for feature in df:\n",
        "  feature_set.append(feature)\n",
        "  feature_cls_yes.append({x : 1 for x in (set(df[feature]))})\n",
        "  feature_cls_no.append({x : 1 for x in (set(df[feature]))})\n",
        "print(feature_set)\n",
        "print(feature_cls_yes)"
      ],
      "metadata": {
        "colab": {
          "base_uri": "https://localhost:8080/"
        },
        "id": "ccC4F1COSPGo",
        "outputId": "a5d957b2-e8cd-4650-af16-27ff58f0390b"
      },
      "execution_count": 121,
      "outputs": [
        {
          "output_type": "stream",
          "name": "stdout",
          "text": [
            "['色泽', '根蒂', '敲声', '纹理', '脐部', '触感', '好瓜']\n",
            "[{'浅白': 1, '青绿': 1, '乌黑': 1}, {'硬挺': 1, '稍蜷': 1, '蜷缩': 1}, {'浊响': 1, '沉闷': 1, '清脆': 1}, {'清晰': 1, '模糊': 1, '稍糊': 1}, {'稍凹': 1, '平坦': 1, '凹陷': 1}, {'软粘': 1, '硬滑': 1}, {'否': 1, '是': 1}]\n"
          ]
        }
      ]
    },
    {
      "cell_type": "code",
      "source": [
        "#求好瓜与坏瓜的概率\n",
        "\n",
        "num_yes = 1.0\n",
        "num_no = 1.0\n",
        "num_label = 2\n",
        "for c in df[feature_set[-1]]:\n",
        "  num_label += 1\n",
        "  if c == '是':\n",
        "    num_yes += 1\n",
        "  else:\n",
        "    num_no += 1\n",
        "P_good = log(num_yes/num_label)\n",
        "P_bad = log(num_no/num_label)"
      ],
      "metadata": {
        "id": "W1Ky12emFYXC"
      },
      "execution_count": 122,
      "outputs": []
    },
    {
      "cell_type": "code",
      "source": [
        "#求不同label下该feature的概率\n",
        "\n",
        "for feature, cls_yes, cls_no, item, cls in zip(feature_set, feature_cls_yes, feature_cls_no, df[feature], df[feature_set[-1]]):\n",
        "\n",
        "  for item, cls in zip(df[feature], df[feature_set[-1]]):\n",
        "    if cls == '是':\n",
        "      cls_yes[item] += 1\n",
        "    else:\n",
        "      cls_no[item] += 1\n",
        "print(feature_cls_yes)\n",
        "print(feature_cls_no)"
      ],
      "metadata": {
        "colab": {
          "base_uri": "https://localhost:8080/"
        },
        "id": "Pzg22SkfJmJz",
        "outputId": "1a8896ea-ccc9-4d4a-8b2d-eb91d1aec3ec"
      },
      "execution_count": 123,
      "outputs": [
        {
          "output_type": "stream",
          "name": "stdout",
          "text": [
            "[{'浅白': 2, '青绿': 4, '乌黑': 5}, {'硬挺': 1, '稍蜷': 4, '蜷缩': 6}, {'浊响': 7, '沉闷': 3, '清脆': 1}, {'清晰': 8, '模糊': 1, '稍糊': 2}, {'稍凹': 4, '平坦': 1, '凹陷': 6}, {'软粘': 3, '硬滑': 7}, {'否': 1, '是': 9}]\n",
            "[{'浅白': 5, '青绿': 4, '乌黑': 3}, {'硬挺': 3, '稍蜷': 5, '蜷缩': 4}, {'浊响': 5, '沉闷': 4, '清脆': 3}, {'清晰': 3, '模糊': 4, '稍糊': 5}, {'稍凹': 4, '平坦': 5, '凹陷': 3}, {'软粘': 4, '硬滑': 7}, {'否': 10, '是': 1}]\n"
          ]
        }
      ]
    },
    {
      "cell_type": "code",
      "source": [
        "last_yes = {y : x for y, x in zip(feature_set, feature_cls_yes)}\n",
        "last_no = {y : x for y, x in zip(feature_set, feature_cls_no)}\n",
        "last = { 'yes' : last_yes, 'no' : last_no}\n",
        "last"
      ],
      "metadata": {
        "colab": {
          "base_uri": "https://localhost:8080/"
        },
        "id": "gW3PikfvgY8e",
        "outputId": "44ff3d38-fe7e-4835-d000-61f8c7bfeea4"
      },
      "execution_count": 124,
      "outputs": [
        {
          "output_type": "execute_result",
          "data": {
            "text/plain": [
              "{'yes': {'色泽': {'浅白': 2, '青绿': 4, '乌黑': 5},\n",
              "  '根蒂': {'硬挺': 1, '稍蜷': 4, '蜷缩': 6},\n",
              "  '敲声': {'浊响': 7, '沉闷': 3, '清脆': 1},\n",
              "  '纹理': {'清晰': 8, '模糊': 1, '稍糊': 2},\n",
              "  '脐部': {'稍凹': 4, '平坦': 1, '凹陷': 6},\n",
              "  '触感': {'软粘': 3, '硬滑': 7},\n",
              "  '好瓜': {'否': 1, '是': 9}},\n",
              " 'no': {'色泽': {'浅白': 5, '青绿': 4, '乌黑': 3},\n",
              "  '根蒂': {'硬挺': 3, '稍蜷': 5, '蜷缩': 4},\n",
              "  '敲声': {'浊响': 5, '沉闷': 4, '清脆': 3},\n",
              "  '纹理': {'清晰': 3, '模糊': 4, '稍糊': 5},\n",
              "  '脐部': {'稍凹': 4, '平坦': 5, '凹陷': 3},\n",
              "  '触感': {'软粘': 4, '硬滑': 7},\n",
              "  '好瓜': {'否': 10, '是': 1}}}"
            ]
          },
          "metadata": {},
          "execution_count": 124
        }
      ]
    },
    {
      "cell_type": "code",
      "source": [
        "for i in last:\n",
        "  for j in last[i]:\n",
        "    sum = 0.0\n",
        "    for k in last[i][j]:\n",
        "      sum += last[i][j][k]\n",
        "    for k in last[i][j]:\n",
        "      last[i][j][k] = log(last[i][j][k]/sum)\n",
        "print(last)"
      ],
      "metadata": {
        "colab": {
          "base_uri": "https://localhost:8080/"
        },
        "id": "5jDvgZO_jhb2",
        "outputId": "0449f545-7272-4c45-8514-e8845ea6d331"
      },
      "execution_count": 125,
      "outputs": [
        {
          "output_type": "stream",
          "name": "stdout",
          "text": [
            "{'yes': {'色泽': {'浅白': -1.7047480922384253, '青绿': -1.0116009116784799, '乌黑': -0.7884573603642702}, '根蒂': {'硬挺': -2.3978952727983707, '稍蜷': -1.0116009116784799, '蜷缩': -0.6061358035703156}, '敲声': {'浊响': -0.45198512374305727, '沉闷': -1.2992829841302609, '清脆': -2.3978952727983707}, '纹理': {'清晰': -0.3184537311185346, '模糊': -2.3978952727983707, '稍糊': -1.7047480922384253}, '脐部': {'稍凹': -1.0116009116784799, '平坦': -2.3978952727983707, '凹陷': -0.6061358035703156}, '触感': {'软粘': -1.2039728043259361, '硬滑': -0.35667494393873245}, '好瓜': {'否': -2.3025850929940455, '是': -0.10536051565782628}}, 'no': {'色泽': {'浅白': -0.8754687373538999, '青绿': -1.0986122886681098, '乌黑': -1.3862943611198906}, '根蒂': {'硬挺': -1.3862943611198906, '稍蜷': -0.8754687373538999, '蜷缩': -1.0986122886681098}, '敲声': {'浊响': -0.8754687373538999, '沉闷': -1.0986122886681098, '清脆': -1.3862943611198906}, '纹理': {'清晰': -1.3862943611198906, '模糊': -1.0986122886681098, '稍糊': -0.8754687373538999}, '脐部': {'稍凹': -1.0986122886681098, '平坦': -0.8754687373538999, '凹陷': -1.3862943611198906}, '触感': {'软粘': -1.0116009116784799, '硬滑': -0.45198512374305727}, '好瓜': {'否': -0.0953101798043249, '是': -2.3978952727983707}}}\n"
          ]
        }
      ]
    },
    {
      "cell_type": "markdown",
      "source": [
        "**验证模型**"
      ],
      "metadata": {
        "id": "elOjFsAaKOBy"
      }
    },
    {
      "cell_type": "code",
      "source": [
        "df2 = pd.read_csv('西瓜的验证集.csv')\n",
        "df2"
      ],
      "metadata": {
        "colab": {
          "base_uri": "https://localhost:8080/",
          "height": 331
        },
        "id": "cs7VVQEAKASn",
        "outputId": "f2ae290b-7e62-4d9e-a612-28c658caaff1"
      },
      "execution_count": 126,
      "outputs": [
        {
          "output_type": "execute_result",
          "data": {
            "text/plain": [
              "   色泽  根蒂  敲声  纹理  脐部  触感 好瓜\n",
              "0  青绿  蜷缩  浊响  清晰  稍凹  软粘  是\n",
              "1  浅白  蜷缩  沉闷  稍糊  平坦  硬滑  否\n",
              "2  浅白  硬挺  沉闷  模糊  凹陷  软粘  否\n",
              "3  乌黑  蜷缩  浊响  清晰  稍凹  硬滑  是\n",
              "4  浅白  蜷缩  沉闷  稍糊  稍凹  硬滑  否\n",
              "5  青绿  蜷缩  浊响  模糊  平坦  硬滑  否\n",
              "6  乌黑  蜷缩  浊响  清晰  凹陷  硬滑  是\n",
              "7  青绿  硬挺  浊响  稍糊  凹陷  硬滑  否\n",
              "8  乌黑  稍蜷  浊响  稍糊  稍凹  硬滑  否"
            ],
            "text/html": [
              "\n",
              "  <div id=\"df-d903d67d-77d7-4f4b-b25e-fae7ad6fcd58\">\n",
              "    <div class=\"colab-df-container\">\n",
              "      <div>\n",
              "<style scoped>\n",
              "    .dataframe tbody tr th:only-of-type {\n",
              "        vertical-align: middle;\n",
              "    }\n",
              "\n",
              "    .dataframe tbody tr th {\n",
              "        vertical-align: top;\n",
              "    }\n",
              "\n",
              "    .dataframe thead th {\n",
              "        text-align: right;\n",
              "    }\n",
              "</style>\n",
              "<table border=\"1\" class=\"dataframe\">\n",
              "  <thead>\n",
              "    <tr style=\"text-align: right;\">\n",
              "      <th></th>\n",
              "      <th>色泽</th>\n",
              "      <th>根蒂</th>\n",
              "      <th>敲声</th>\n",
              "      <th>纹理</th>\n",
              "      <th>脐部</th>\n",
              "      <th>触感</th>\n",
              "      <th>好瓜</th>\n",
              "    </tr>\n",
              "  </thead>\n",
              "  <tbody>\n",
              "    <tr>\n",
              "      <th>0</th>\n",
              "      <td>青绿</td>\n",
              "      <td>蜷缩</td>\n",
              "      <td>浊响</td>\n",
              "      <td>清晰</td>\n",
              "      <td>稍凹</td>\n",
              "      <td>软粘</td>\n",
              "      <td>是</td>\n",
              "    </tr>\n",
              "    <tr>\n",
              "      <th>1</th>\n",
              "      <td>浅白</td>\n",
              "      <td>蜷缩</td>\n",
              "      <td>沉闷</td>\n",
              "      <td>稍糊</td>\n",
              "      <td>平坦</td>\n",
              "      <td>硬滑</td>\n",
              "      <td>否</td>\n",
              "    </tr>\n",
              "    <tr>\n",
              "      <th>2</th>\n",
              "      <td>浅白</td>\n",
              "      <td>硬挺</td>\n",
              "      <td>沉闷</td>\n",
              "      <td>模糊</td>\n",
              "      <td>凹陷</td>\n",
              "      <td>软粘</td>\n",
              "      <td>否</td>\n",
              "    </tr>\n",
              "    <tr>\n",
              "      <th>3</th>\n",
              "      <td>乌黑</td>\n",
              "      <td>蜷缩</td>\n",
              "      <td>浊响</td>\n",
              "      <td>清晰</td>\n",
              "      <td>稍凹</td>\n",
              "      <td>硬滑</td>\n",
              "      <td>是</td>\n",
              "    </tr>\n",
              "    <tr>\n",
              "      <th>4</th>\n",
              "      <td>浅白</td>\n",
              "      <td>蜷缩</td>\n",
              "      <td>沉闷</td>\n",
              "      <td>稍糊</td>\n",
              "      <td>稍凹</td>\n",
              "      <td>硬滑</td>\n",
              "      <td>否</td>\n",
              "    </tr>\n",
              "    <tr>\n",
              "      <th>5</th>\n",
              "      <td>青绿</td>\n",
              "      <td>蜷缩</td>\n",
              "      <td>浊响</td>\n",
              "      <td>模糊</td>\n",
              "      <td>平坦</td>\n",
              "      <td>硬滑</td>\n",
              "      <td>否</td>\n",
              "    </tr>\n",
              "    <tr>\n",
              "      <th>6</th>\n",
              "      <td>乌黑</td>\n",
              "      <td>蜷缩</td>\n",
              "      <td>浊响</td>\n",
              "      <td>清晰</td>\n",
              "      <td>凹陷</td>\n",
              "      <td>硬滑</td>\n",
              "      <td>是</td>\n",
              "    </tr>\n",
              "    <tr>\n",
              "      <th>7</th>\n",
              "      <td>青绿</td>\n",
              "      <td>硬挺</td>\n",
              "      <td>浊响</td>\n",
              "      <td>稍糊</td>\n",
              "      <td>凹陷</td>\n",
              "      <td>硬滑</td>\n",
              "      <td>否</td>\n",
              "    </tr>\n",
              "    <tr>\n",
              "      <th>8</th>\n",
              "      <td>乌黑</td>\n",
              "      <td>稍蜷</td>\n",
              "      <td>浊响</td>\n",
              "      <td>稍糊</td>\n",
              "      <td>稍凹</td>\n",
              "      <td>硬滑</td>\n",
              "      <td>否</td>\n",
              "    </tr>\n",
              "  </tbody>\n",
              "</table>\n",
              "</div>\n",
              "      <button class=\"colab-df-convert\" onclick=\"convertToInteractive('df-d903d67d-77d7-4f4b-b25e-fae7ad6fcd58')\"\n",
              "              title=\"Convert this dataframe to an interactive table.\"\n",
              "              style=\"display:none;\">\n",
              "        \n",
              "  <svg xmlns=\"http://www.w3.org/2000/svg\" height=\"24px\"viewBox=\"0 0 24 24\"\n",
              "       width=\"24px\">\n",
              "    <path d=\"M0 0h24v24H0V0z\" fill=\"none\"/>\n",
              "    <path d=\"M18.56 5.44l.94 2.06.94-2.06 2.06-.94-2.06-.94-.94-2.06-.94 2.06-2.06.94zm-11 1L8.5 8.5l.94-2.06 2.06-.94-2.06-.94L8.5 2.5l-.94 2.06-2.06.94zm10 10l.94 2.06.94-2.06 2.06-.94-2.06-.94-.94-2.06-.94 2.06-2.06.94z\"/><path d=\"M17.41 7.96l-1.37-1.37c-.4-.4-.92-.59-1.43-.59-.52 0-1.04.2-1.43.59L10.3 9.45l-7.72 7.72c-.78.78-.78 2.05 0 2.83L4 21.41c.39.39.9.59 1.41.59.51 0 1.02-.2 1.41-.59l7.78-7.78 2.81-2.81c.8-.78.8-2.07 0-2.86zM5.41 20L4 18.59l7.72-7.72 1.47 1.35L5.41 20z\"/>\n",
              "  </svg>\n",
              "      </button>\n",
              "      \n",
              "  <style>\n",
              "    .colab-df-container {\n",
              "      display:flex;\n",
              "      flex-wrap:wrap;\n",
              "      gap: 12px;\n",
              "    }\n",
              "\n",
              "    .colab-df-convert {\n",
              "      background-color: #E8F0FE;\n",
              "      border: none;\n",
              "      border-radius: 50%;\n",
              "      cursor: pointer;\n",
              "      display: none;\n",
              "      fill: #1967D2;\n",
              "      height: 32px;\n",
              "      padding: 0 0 0 0;\n",
              "      width: 32px;\n",
              "    }\n",
              "\n",
              "    .colab-df-convert:hover {\n",
              "      background-color: #E2EBFA;\n",
              "      box-shadow: 0px 1px 2px rgba(60, 64, 67, 0.3), 0px 1px 3px 1px rgba(60, 64, 67, 0.15);\n",
              "      fill: #174EA6;\n",
              "    }\n",
              "\n",
              "    [theme=dark] .colab-df-convert {\n",
              "      background-color: #3B4455;\n",
              "      fill: #D2E3FC;\n",
              "    }\n",
              "\n",
              "    [theme=dark] .colab-df-convert:hover {\n",
              "      background-color: #434B5C;\n",
              "      box-shadow: 0px 1px 3px 1px rgba(0, 0, 0, 0.15);\n",
              "      filter: drop-shadow(0px 1px 2px rgba(0, 0, 0, 0.3));\n",
              "      fill: #FFFFFF;\n",
              "    }\n",
              "  </style>\n",
              "\n",
              "      <script>\n",
              "        const buttonEl =\n",
              "          document.querySelector('#df-d903d67d-77d7-4f4b-b25e-fae7ad6fcd58 button.colab-df-convert');\n",
              "        buttonEl.style.display =\n",
              "          google.colab.kernel.accessAllowed ? 'block' : 'none';\n",
              "\n",
              "        async function convertToInteractive(key) {\n",
              "          const element = document.querySelector('#df-d903d67d-77d7-4f4b-b25e-fae7ad6fcd58');\n",
              "          const dataTable =\n",
              "            await google.colab.kernel.invokeFunction('convertToInteractive',\n",
              "                                                     [key], {});\n",
              "          if (!dataTable) return;\n",
              "\n",
              "          const docLinkHtml = 'Like what you see? Visit the ' +\n",
              "            '<a target=\"_blank\" href=https://colab.research.google.com/notebooks/data_table.ipynb>data table notebook</a>'\n",
              "            + ' to learn more about interactive tables.';\n",
              "          element.innerHTML = '';\n",
              "          dataTable['output_type'] = 'display_data';\n",
              "          await google.colab.output.renderOutput(dataTable, element);\n",
              "          const docLink = document.createElement('div');\n",
              "          docLink.innerHTML = docLinkHtml;\n",
              "          element.appendChild(docLink);\n",
              "        }\n",
              "      </script>\n",
              "    </div>\n",
              "  </div>\n",
              "  "
            ]
          },
          "metadata": {},
          "execution_count": 126
        }
      ]
    },
    {
      "cell_type": "code",
      "source": [
        "#利用分类模型计算类别\n",
        "\n",
        "y_hat = []\n",
        "y = []\n",
        "for cls in df2[feature_set[-1]]:\n",
        "  y.append(cls)\n",
        "values = df2.values\n",
        "for i in range(len(values)):\n",
        "  p1 = P_good\n",
        "  p2 = P_bad\n",
        "  for j in range(len(values[i])-1):\n",
        "    p1 += last['yes'][feature_set[j]][values[i][j]]\n",
        "    p2 += last['no'][feature_set[j]][values[i][j]]\n",
        "  if p1 > p2:\n",
        "    y_hat.append('是')\n",
        "  else:\n",
        "    y_hat.append('否')\n",
        "print(f'y:{y}')\n",
        "print(f'y_hat:{y_hat}')"
      ],
      "metadata": {
        "colab": {
          "base_uri": "https://localhost:8080/"
        },
        "id": "yijRAoTzlIyO",
        "outputId": "526c5281-1bcb-4566-c47a-a1b38a050eaa"
      },
      "execution_count": 127,
      "outputs": [
        {
          "output_type": "stream",
          "name": "stdout",
          "text": [
            "y:['是', '否', '否', '是', '否', '否', '是', '否', '否']\n",
            "y_hat:['是', '否', '否', '是', '否', '否', '是', '否', '是']\n"
          ]
        }
      ]
    },
    {
      "cell_type": "code",
      "source": [
        "#计算误差，正确误差为0，错误误差为1\n",
        "error = 0.0\n",
        "i = 0\n",
        "for y, y_hat in zip(y, y_hat):\n",
        "  if(y != y_hat):\n",
        "    error += 1\n",
        "  i += 1\n",
        "error /= i\n",
        "print(error)"
      ],
      "metadata": {
        "colab": {
          "base_uri": "https://localhost:8080/"
        },
        "id": "3e7o2tSoqz3S",
        "outputId": "406b6b8f-71cd-4508-ece8-4a14304b2233"
      },
      "execution_count": 128,
      "outputs": [
        {
          "output_type": "stream",
          "name": "stdout",
          "text": [
            "0.1111111111111111\n"
          ]
        }
      ]
    }
  ]
}